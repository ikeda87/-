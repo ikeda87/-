{
  "nbformat": 4,
  "nbformat_minor": 0,
  "metadata": {
    "colab": {
      "provenance": [],
      "authorship_tag": "ABX9TyOA5nx/NYeSFFucIox87Z0z",
      "include_colab_link": true
    },
    "kernelspec": {
      "name": "python3",
      "display_name": "Python 3"
    },
    "language_info": {
      "name": "python"
    }
  },
  "cells": [
    {
      "cell_type": "markdown",
      "metadata": {
        "id": "view-in-github",
        "colab_type": "text"
      },
      "source": [
        "<a href=\"https://colab.research.google.com/github/ikeda87/-/blob/main/learning.ipynb\" target=\"_parent\"><img src=\"https://colab.research.google.com/assets/colab-badge.svg\" alt=\"Open In Colab\"/></a>"
      ]
    },
    {
      "cell_type": "code",
      "execution_count": 12,
      "metadata": {
        "id": "bx57PQc0lgve"
      },
      "outputs": [],
      "source": [
        "import cv2\n",
        "import numpy as np\n",
        "\n",
        "# 自分の顔の画像を読み込む\n",
        "img = cv2.imread(\"my_face.png\")\n",
        "\n",
        "# # 顔の特徴量を検出する\n",
        "# face_detector = cv2.CascadeClassifier(\"haarcascade_frontalface_default.xml\")\n",
        "# faces = face_detector.detectMultiScale(img, 1.1, 4)\n",
        "\n",
        "# # 顔の特徴量ごとに、絵画風の画像に変換する\n",
        "# for (x, y, w, h) in faces:\n",
        "#     face = img[y:y + h, x:x + w]\n",
        "#     face = cv2.resize(face, (256, 256))\n",
        "#     face = cv2.cvtColor(face, cv2.COLOR_BGR2RGB)\n",
        "#     face = np.array(face)\n",
        "#     face = cv2.impainting.seamlessClone(face, img, np.ones_like(face), (x, y), cv2.INPAINT_TELEA)\n",
        "#     img[y:y + h, x:x + w] = face\n",
        "\n",
        "# # 絵画風の画像を出力する\n",
        "# cv2.imwrite(\"my_face_painting.jpg\", img)\n",
        "\n"
      ]
    },
    {
      "cell_type": "code",
      "source": [],
      "metadata": {
        "id": "BnaZBhHZuttt"
      },
      "execution_count": 12,
      "outputs": []
    },
    {
      "cell_type": "code",
      "source": [],
      "metadata": {
        "id": "zn3QuSkBt-Gr"
      },
      "execution_count": 12,
      "outputs": []
    },
    {
      "cell_type": "code",
      "source": [],
      "metadata": {
        "id": "UP1wmi2Rp-GV"
      },
      "execution_count": 12,
      "outputs": []
    },
    {
      "cell_type": "code",
      "source": [],
      "metadata": {
        "id": "qCmzLW1dp5ry"
      },
      "execution_count": 12,
      "outputs": []
    },
    {
      "cell_type": "code",
      "source": [],
      "metadata": {
        "id": "5UxNsfEvpNJs"
      },
      "execution_count": 3,
      "outputs": []
    }
  ]
}